{
  "nbformat": 4,
  "nbformat_minor": 0,
  "metadata": {
    "colab": {
      "provenance": []
    },
    "kernelspec": {
      "name": "python3",
      "display_name": "Python 3"
    },
    "language_info": {
      "name": "python"
    }
  },
  "cells": [
    {
      "cell_type": "markdown",
      "source": [
        "Name : Asoke Rathnayake\n",
        "\n",
        "email: asokerathnayake@gmail.com/ asoke.rathnayake@dialog.lk\n",
        "\n",
        "Question and Ansvering appication which returns responce in Sinhala\n"
      ],
      "metadata": {
        "id": "SMo9SjYn2o5g"
      }
    },
    {
      "cell_type": "markdown",
      "source": [
        "**Use case** : The user can ask questions in English and the response will be returned in Sinhala.\n",
        "\n",
        "**The reason to allow English input **:  most of the users can type some of the simple questions in English, but sometimes the response/answer will be a bit complex to understand.\n",
        "\n",
        "**how the use case works**: user can ask any questions in English and the response will be sent to the English-to-Sinhala translation service lingvanex via API call and returns the Sinhala-translated answer to users with an English answer.\n",
        "\n",
        "**The reason for using lingvanex translation service**: As per my experience OpenAI Sinhala translation isn’t meaningful enough to understand. But lingvanex Sinhala translation is more meaningful and clear. It’s almost similar to Google Sinhala translation as well. but lingvanex is much cheaper than comparing with Google.\n",
        "\n",
        "**Future Improvement** : Allow users to input the question in Sinhala.\n"
      ],
      "metadata": {
        "id": "FL6fein-65iV"
      }
    },
    {
      "cell_type": "code",
      "source": [
        "!pip install openai"
      ],
      "metadata": {
        "id": "3o1YQV3CkoTC"
      },
      "execution_count": null,
      "outputs": []
    },
    {
      "cell_type": "code",
      "source": [
        "#Get the API keys from Config file\n",
        "import configparser\n",
        "config = configparser.ConfigParser()\n",
        "config.read(r'/content/sample_data/config.ini')\n",
        "\n",
        "#[OPENAI]\n",
        "openai_api_key = config['OPENAI']['openai_api_key']\n",
        "openai_url = config['OPENAI']['openai_url']\n",
        "#[LINGVANEX]\n",
        "lingvanex_api_key = config['LINGVANEX']['lingvanex_api_key']\n",
        "lingvanex_url = config['LINGVANEX']['lingvanex_url']\n"
      ],
      "metadata": {
        "id": "nghSKk2xYiWB"
      },
      "execution_count": null,
      "outputs": []
    },
    {
      "cell_type": "markdown",
      "source": [
        "Below Code having two fuctions\n",
        "\n",
        "1.   OpenAPI for question and answering.\n",
        "2.   Language traslation.\n",
        "\n"
      ],
      "metadata": {
        "id": "xVg2FjBd-SiW"
      }
    },
    {
      "cell_type": "code",
      "source": [
        "import requests\n",
        "import json\n",
        "#--------------------------------------------------------------------------------------------------------------------------------------------\n",
        "# OpenAI Q & A code.\n",
        "def ask_question_and_get_answer(question):\n",
        "    api_key = openai_api_key\n",
        "    api_url = openai_url\n",
        "    headers = {\n",
        "        \"Content-Type\": \"application/json\",\n",
        "        \"Authorization\": f\"Bearer {api_key}\"\n",
        "    }\n",
        "    payload = {\n",
        "        \"prompt\": f\"Q: {question}\\nA:\",\n",
        "        \"max_tokens\": 150,\n",
        "        \"temperature\": 0.7,\n",
        "        \"top_p\": 1.0\n",
        "    }\n",
        "\n",
        "    try:\n",
        "        response = requests.post(api_url, headers=headers, data=json.dumps(payload))\n",
        "        response_data = response.json()\n",
        "        answer = response_data['choices'][0]['text'].strip()\n",
        "        return answer\n",
        "    except requests.exceptions.RequestException as e:\n",
        "        print(f\"Error API request: {e}\")\n",
        "        return None\n",
        "#--------------------------------------------------------------------------------------------------------------------------------------------\n",
        "# ChatGPT traslation isnt good in sinhala traslation i use lingvanex traslation api, this is much cheaper than Google traslation as well\n",
        "def translate_text(source_text):\n",
        "    s_language = \"en_GB\"\n",
        "    t_language = \"si_LK\"\n",
        "    api_key = lingvanex_api_key\n",
        "    url = lingvanex_url\n",
        "    payload = {\n",
        "        \"platform\": \"api\",\n",
        "        \"from\": s_language,\n",
        "        \"to\": t_language,\n",
        "        \"data\": source_text\n",
        "    }\n",
        "    headers = {\n",
        "        \"accept\": \"application/json\",\n",
        "        \"content-type\": \"application/json\",\n",
        "        \"Authorization\": api_key\n",
        "    }\n",
        "    try:\n",
        "        response = requests.post(url, json=payload, headers=headers)\n",
        "        response_data = response.json()\n",
        "        return response_data\n",
        "    except requests.exceptions.RequestException as e:\n",
        "        print(f\"Error with API request: {e}\")\n",
        "        return None\n",
        "#--------------------------------------------------------------------------------------------------------------------------------------------\n",
        "# Try the functions\n",
        "question = \"What is the capital of France?\"\n",
        "answer = ask_question_and_get_answer(question)\n",
        "print(\"Answer:\", answer)\n",
        "translation_result = translate_text(answer)\n",
        "print(\"Sinhala Traslation:\", translation_result['result'].strip())\n",
        "#--------------------------------------------------------------------------------------------------------------------------------------------\n"
      ],
      "metadata": {
        "colab": {
          "base_uri": "https://localhost:8080/"
        },
        "id": "E4w4uKTrm0Zl",
        "outputId": "4fdcdaab-e10d-4c1f-b604-b01229eeb9ab"
      },
      "execution_count": null,
      "outputs": [
        {
          "output_type": "stream",
          "name": "stdout",
          "text": [
            "Answer: The capital of France is Paris.\n",
            "Sinhala Traslation: ප්‍රංශයේ අගනුවර පැරිස් ය.\n"
          ]
        }
      ]
    }
  ]
}